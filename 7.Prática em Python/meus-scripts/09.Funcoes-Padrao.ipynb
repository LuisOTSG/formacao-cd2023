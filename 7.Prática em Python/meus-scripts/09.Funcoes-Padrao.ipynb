{
 "cells": [
  {
   "cell_type": "markdown",
   "id": "15c78178-34d1-480c-965d-e0cf57484dd6",
   "metadata": {},
   "source": [
    "## Funções Padrão"
   ]
  },
  {
   "cell_type": "code",
   "execution_count": 1,
   "id": "8375fbe3-b730-496a-820d-c6d81e57bb5d",
   "metadata": {
    "tags": []
   },
   "outputs": [
    {
     "name": "stdout",
     "output_type": "stream",
     "text": [
      "200\n",
      "Maior valor: 45\n",
      "Menor valor: 1\n",
      "Soma: 78\n",
      "Arredondamento: 3.14\n"
     ]
    }
   ],
   "source": [
    "# Funções internas\n",
    "print(abs(-200))\n",
    "lst = [1, 2, 10, 20, 45]\n",
    "print(\"Maior valor:\", max(lst))\n",
    "print(\"Menor valor:\", min(lst))\n",
    "print(\"Soma:\", sum(lst))\n",
    "print(\"Arredondamento:\", round(3.14159,2))"
   ]
  },
  {
   "cell_type": "code",
   "execution_count": 2,
   "id": "61cd942f-d5ca-49ee-883d-848d5b1d370d",
   "metadata": {
    "tags": []
   },
   "outputs": [
    {
     "name": "stdout",
     "output_type": "stream",
     "text": [
      "Média: 15.6\n",
      "Mediana: 10\n",
      "Moda: 1\n",
      "Desvio padrão: 18.1190507477627\n",
      "Variância: 328.3\n"
     ]
    }
   ],
   "source": [
    "# Funções do módulo 'statistics'\n",
    "from statistics import *\n",
    "print(\"Média:\", mean(lst))\n",
    "print(\"Mediana:\", median(lst))\n",
    "print(\"Moda:\", mode(lst))\n",
    "print(\"Desvio padrão:\", stdev(lst))\n",
    "print(\"Variância:\", variance(lst))"
   ]
  },
  {
   "cell_type": "code",
   "execution_count": 3,
   "id": "1d547091-e877-49e7-9721-28ba57a14c20",
   "metadata": {
    "tags": []
   },
   "outputs": [
    {
     "name": "stdout",
     "output_type": "stream",
     "text": [
      "<class 'numpy.ndarray'>\n",
      "[[0.91347618 0.58623191 0.95604262 0.40853668 0.77586509 0.92888373\n",
      "  0.97324312 0.54297494]\n",
      " [0.13774303 0.11761146 0.97574166 0.17199306 0.12075616 0.06208727\n",
      "  0.79513607 0.02787509]\n",
      " [0.35788472 0.62768497 0.22947402 0.80180206 0.70313732 0.56142734\n",
      "  0.90644748 0.60383898]\n",
      " [0.17188755 0.39042544 0.13973371 0.16164133 0.45999755 0.47568353\n",
      "  0.04600453 0.67864039]\n",
      " [0.25254171 0.84667464 0.45406232 0.25422994 0.79751376 0.94571834\n",
      "  0.47254902 0.18313969]\n",
      " [0.66806206 0.50961077 0.14650657 0.60680784 0.05602695 0.26414796\n",
      "  0.87248919 0.79532074]\n",
      " [0.84002008 0.90510335 0.95080389 0.77242777 0.94778027 0.33084301\n",
      "  0.66234386 0.073281  ]\n",
      " [0.88814779 0.32306717 0.79377489 0.47598588 0.02123325 0.34692367\n",
      "  0.77248027 0.76226186]]\n"
     ]
    }
   ],
   "source": [
    "from numpy import *\n",
    "a = random.random((8,8))\n",
    "print(type(a))\n",
    "print(a)"
   ]
  }
 ],
 "metadata": {
  "kernelspec": {
   "display_name": "Python 3 (ipykernel)",
   "language": "python",
   "name": "python3"
  },
  "language_info": {
   "codemirror_mode": {
    "name": "ipython",
    "version": 3
   },
   "file_extension": ".py",
   "mimetype": "text/x-python",
   "name": "python",
   "nbconvert_exporter": "python",
   "pygments_lexer": "ipython3",
   "version": "3.11.5"
  }
 },
 "nbformat": 4,
 "nbformat_minor": 5
}
