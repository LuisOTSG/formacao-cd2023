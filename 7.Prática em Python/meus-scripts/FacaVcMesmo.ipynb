{
 "cells": [
  {
   "cell_type": "markdown",
   "id": "bec56e3c-4ee2-4a8e-a5b5-82dffc787b44",
   "metadata": {},
   "source": [
    "## Faça Você Mesmo"
   ]
  },
  {
   "cell_type": "code",
   "execution_count": 2,
   "id": "ef0dc463-53dd-4aa6-8636-feb87238b06c",
   "metadata": {
    "tags": []
   },
   "outputs": [
    {
     "name": "stdout",
     "output_type": "stream",
     "text": [
      "Amplitude: 146\n"
     ]
    }
   ],
   "source": [
    "#1. Faça um programa que tenha uma função chamada amplitude. A função deve receber uma lista e imprimir a amplitude.\n",
    "# Crie também um código para testar sua função\n",
    "def amplitude(vet):\n",
    "    print(\"Amplitude:\", max(vet) - min(vet))\n",
    "\n",
    "vetor = [14, 25, 4, 38, 150]    \n",
    "amplitude(vetor)"
   ]
  },
  {
   "cell_type": "code",
   "execution_count": 3,
   "id": "7bd84669-27eb-4b3b-89bf-aa3890f7d0a1",
   "metadata": {
    "tags": []
   },
   "outputs": [
    {
     "name": "stdout",
     "output_type": "stream",
     "text": [
      "P\n",
      "y\n",
      "t\n",
      "h\n",
      "o\n",
      "n\n"
     ]
    }
   ],
   "source": [
    "#2. Faça uma função que receba uma string e imprima esta string na forma vertical\n",
    "def imprime(texto):\n",
    "    for n in range(0, len(texto)):\n",
    "        print(texto[n])\n",
    "\n",
    "imprime(\"Python\")"
   ]
  },
  {
   "cell_type": "code",
   "execution_count": 5,
   "id": "2a9b076f-7cdc-46c9-9598-c0a5ac6c490e",
   "metadata": {
    "tags": []
   },
   "outputs": [
    {
     "name": "stdin",
     "output_type": "stream",
     "text": [
      "Qual o pesoa da carga?  20\n"
     ]
    },
    {
     "name": "stdout",
     "output_type": "stream",
     "text": [
      "Valor da carga é de R$ 80,00\n"
     ]
    }
   ],
   "source": [
    "#3. Crie um programa que leia o peso de uma carga em números inteiros. \n",
    "# Se o peso for até 10 kg, informe que o valor será de R$ 50,00. \n",
    "# Entre 11 e 20 kg, informe que o valor será de R$ 80. \n",
    "# Se for maior que  20 informe que o transporte não é aceito. Teste vários pesos.\n",
    "\n",
    "peso = int(input(\"Qual o pesoa da carga? \"))\n",
    "if peso <= 10:\n",
    "\tprint(\"Valor da carga é de R$ 50,00\")\n",
    "elif peso >= 11 and peso <=20:\n",
    "\tprint(\"Valor da carga é de R$ 80,00\")\n",
    "else:\n",
    "\tprint(\"O transporte não é aceito\")"
   ]
  }
 ],
 "metadata": {
  "kernelspec": {
   "display_name": "Python 3 (ipykernel)",
   "language": "python",
   "name": "python3"
  },
  "language_info": {
   "codemirror_mode": {
    "name": "ipython",
    "version": 3
   },
   "file_extension": ".py",
   "mimetype": "text/x-python",
   "name": "python",
   "nbconvert_exporter": "python",
   "pygments_lexer": "ipython3",
   "version": "3.11.5"
  }
 },
 "nbformat": 4,
 "nbformat_minor": 5
}
