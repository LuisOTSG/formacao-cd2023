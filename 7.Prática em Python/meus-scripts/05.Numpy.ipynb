{
 "cells": [
  {
   "cell_type": "markdown",
   "id": "7b45c248-b7ed-4951-8713-0cc134932f2d",
   "metadata": {},
   "source": [
    "## Numpy"
   ]
  },
  {
   "cell_type": "code",
   "execution_count": 1,
   "id": "4eec5720-95d1-44e3-9d5c-07feba5fc416",
   "metadata": {
    "tags": []
   },
   "outputs": [],
   "source": [
    "# Importar a biblioteca numpy\n",
    "import numpy as np"
   ]
  },
  {
   "cell_type": "code",
   "execution_count": 2,
   "id": "29b0b612-b3c1-4e7c-98e3-74553189714d",
   "metadata": {
    "tags": []
   },
   "outputs": [
    {
     "name": "stdout",
     "output_type": "stream",
     "text": [
      "[12 34 26 18 10]\n",
      "<class 'numpy.ndarray'>\n"
     ]
    }
   ],
   "source": [
    "# Criar uma matriz unidimensional\n",
    "mt = np.array([12, 34, 26, 18, 10])\n",
    "print(mt)\n",
    "print(type(mt))"
   ]
  },
  {
   "cell_type": "code",
   "execution_count": 3,
   "id": "8557df01-36bc-42ba-ac1a-3c95038d1947",
   "metadata": {
    "tags": []
   },
   "outputs": [
    {
     "name": "stdout",
     "output_type": "stream",
     "text": [
      "[1. 2. 3.]\n",
      "<class 'numpy.ndarray'>\n"
     ]
    }
   ],
   "source": [
    "# Criar um array com um tipo específico (float de 64 bits)\n",
    "mtfloat = np.array([1, 2, 3], dtype = np.float64)\n",
    "print(mtfloat)\n",
    "print(type(mtfloat))"
   ]
  },
  {
   "cell_type": "code",
   "execution_count": 4,
   "id": "a054d075-ef57-4544-b0dc-634933c83c2b",
   "metadata": {
    "tags": []
   },
   "outputs": [
    {
     "name": "stdout",
     "output_type": "stream",
     "text": [
      "[1 2 3]\n",
      "<class 'numpy.ndarray'>\n"
     ]
    }
   ],
   "source": [
    "# Criar um array com um tipo específico (inteiro de 32 bits)\n",
    "mtint = np.array([1, 2, 3], dtype = np.int32)\n",
    "print(mtint)\n",
    "print(type(mtint))"
   ]
  },
  {
   "cell_type": "code",
   "execution_count": 5,
   "id": "17834f22-ff48-45f9-904a-ef15921d68b0",
   "metadata": {
    "tags": []
   },
   "outputs": [
    {
     "name": "stdout",
     "output_type": "stream",
     "text": [
      "[ 1.4       3.6      -5.1       9.42      4.999999]\n",
      "[ 1  3 -5  9  4]\n"
     ]
    }
   ],
   "source": [
    "# Modificar o tipo do array (casting)\n",
    "mtnew = np.array([1.4, 3.6, -5.1, 9.42, 4.999999])\n",
    "print(mtnew)\n",
    "# Quando transformamos de float64 para int32 os valores são truncados\n",
    "mtnewint = mtnew.astype(np.int32)\n",
    "print(mtnewint)"
   ]
  },
  {
   "cell_type": "code",
   "execution_count": 6,
   "id": "59d0de16-45a1-4463-a79d-d5f0ad68cc21",
   "metadata": {
    "tags": []
   },
   "outputs": [
    {
     "name": "stdout",
     "output_type": "stream",
     "text": [
      "[1 2 3 4]\n",
      "[1. 2. 3. 4.]\n"
     ]
    }
   ],
   "source": [
    "# Podemos fazer o inverso\n",
    "mt5 = np.array([1, 2, 3, 4])\n",
    "print(mt5)\n",
    "mt6 = mt5.astype(float)\n",
    "print(mt6)"
   ]
  },
  {
   "cell_type": "code",
   "execution_count": 7,
   "id": "468408f1-6109-47e0-8f85-e20468bc3173",
   "metadata": {
    "tags": []
   },
   "outputs": [
    {
     "name": "stdout",
     "output_type": "stream",
     "text": [
      "[[ 7  2 23]\n",
      " [12 27  4]\n",
      " [ 5 34 23]]\n"
     ]
    }
   ],
   "source": [
    "# Criar uma matriz bidimensional\n",
    "mt7 = np.array([[7,2,23], [12,27,4], [5,34,23]])\n",
    "print(mt7)"
   ]
  },
  {
   "cell_type": "code",
   "execution_count": 8,
   "id": "886e41a9-c0e0-446c-b99d-d21b21db487e",
   "metadata": {
    "tags": []
   },
   "outputs": [
    {
     "name": "stdout",
     "output_type": "stream",
     "text": [
      "[[         0 1072693248]\n",
      " [         0 1073741824]\n",
      " [         0 1074266112]]\n"
     ]
    }
   ],
   "source": [
    "# Criar arrays vazios tipificados\n",
    "# empty() - Significa que não são inicializados, não que são vazios\n",
    "vazio = np.empty([3,2], dtype = int)\n",
    "print(vazio)"
   ]
  },
  {
   "cell_type": "code",
   "execution_count": 9,
   "id": "49fdbdb7-c6ad-4c1b-9289-168aed66aa67",
   "metadata": {
    "tags": []
   },
   "outputs": [
    {
     "name": "stdout",
     "output_type": "stream",
     "text": [
      "[[0. 0. 0.]\n",
      " [0. 0. 0.]\n",
      " [0. 0. 0.]\n",
      " [0. 0. 0.]]\n"
     ]
    }
   ],
   "source": [
    "# Criar uma matriz 4x3 com valores zero\n",
    "# zeros()\n",
    "zeros = np.zeros([4,3])\n",
    "print(zeros)"
   ]
  },
  {
   "cell_type": "code",
   "execution_count": 10,
   "id": "0b64d687-49ca-40b9-8bfc-3f39dc6aac20",
   "metadata": {
    "tags": []
   },
   "outputs": [
    {
     "name": "stdout",
     "output_type": "stream",
     "text": [
      "[[1. 1. 1. 1. 1. 1. 1.]\n",
      " [1. 1. 1. 1. 1. 1. 1.]\n",
      " [1. 1. 1. 1. 1. 1. 1.]\n",
      " [1. 1. 1. 1. 1. 1. 1.]\n",
      " [1. 1. 1. 1. 1. 1. 1.]]\n"
     ]
    }
   ],
   "source": [
    "# Criar uma matriz com valores igual a 1\n",
    "# ones()\n",
    "um = np.ones([5,7])\n",
    "print(um)"
   ]
  },
  {
   "cell_type": "code",
   "execution_count": 11,
   "id": "582b14b1-e561-4024-bc3f-9da17c88bc02",
   "metadata": {
    "tags": []
   },
   "outputs": [
    {
     "name": "stdout",
     "output_type": "stream",
     "text": [
      "[[1. 0. 0. 0. 0.]\n",
      " [0. 1. 0. 0. 0.]\n",
      " [0. 0. 1. 0. 0.]\n",
      " [0. 0. 0. 1. 0.]\n",
      " [0. 0. 0. 0. 1.]]\n"
     ]
    }
   ],
   "source": [
    "# Criar matriz quadrada com diagonal principal com valores 1 e os outros valores zero\n",
    "# eye()\n",
    "diagonal = np.eye(5)\n",
    "print(diagonal)"
   ]
  },
  {
   "cell_type": "code",
   "execution_count": 12,
   "id": "1371b91b-8789-4fcd-b5c7-3a4be10714db",
   "metadata": {
    "tags": []
   },
   "outputs": [
    {
     "name": "stdout",
     "output_type": "stream",
     "text": [
      "[0.72747618 0.81185202 0.72679059 0.03800688 0.85677461]\n"
     ]
    }
   ],
   "source": [
    "# Valores aleatórios entre zero e um\n",
    "# random()\n",
    "ale = np.random.random((5))\n",
    "print(ale)"
   ]
  },
  {
   "cell_type": "code",
   "execution_count": 13,
   "id": "cf486b6b-8ec0-41ea-9b5d-5ff3c480dafe",
   "metadata": {
    "tags": []
   },
   "outputs": [
    {
     "name": "stdout",
     "output_type": "stream",
     "text": [
      "[ 0.13438171 -0.54841933 -0.20091227 -1.38716166 -0.44858279]\n"
     ]
    }
   ],
   "source": [
    "# Valores aleatórios distr. normal contendo negativos\n",
    "# randn()\n",
    "ale2= np.random.randn((5))\n",
    "print(ale2)"
   ]
  },
  {
   "cell_type": "code",
   "execution_count": 14,
   "id": "fe25b358-9359-4786-8073-31ee9fdd8566",
   "metadata": {
    "tags": []
   },
   "outputs": [
    {
     "name": "stdout",
     "output_type": "stream",
     "text": [
      "[[6.14929287 6.60126557 5.59720713 6.02235599]\n",
      " [9.04741524 2.74138806 2.16682335 9.74431065]\n",
      " [9.1989569  2.0223965  8.89503974 4.79230499]]\n"
     ]
    }
   ],
   "source": [
    "# Valores aleatórios 3 x 4\n",
    "ale3 = (10 * np.random.random((3, 4)))\n",
    "print(ale3)"
   ]
  },
  {
   "cell_type": "code",
   "execution_count": 15,
   "id": "96003ab6-ec76-4c1a-940e-025a6d9b02ca",
   "metadata": {
    "tags": []
   },
   "outputs": [
    {
     "name": "stdout",
     "output_type": "stream",
     "text": [
      "[0.51182162 0.9504637  0.14415961]\n"
     ]
    }
   ],
   "source": [
    "# Valores aleatórios com uso de semente (obterá a mesma sequência de números aleatórios)\n",
    "# default_rng()\n",
    "gnr = np.random.default_rng(1)\n",
    "ale5 = gnr.random(3)\n",
    "print (ale5)"
   ]
  },
  {
   "cell_type": "code",
   "execution_count": 16,
   "id": "7d376cc4-8d92-4bff-8457-f1e9464612ba",
   "metadata": {
    "tags": []
   },
   "outputs": [
    {
     "name": "stdout",
     "output_type": "stream",
     "text": [
      "[[8 9 2 3]\n",
      " [8 4 2 8]\n",
      " [2 4 6 5]]\n"
     ]
    }
   ],
   "source": [
    "# Valores aleatórios inteiros\n",
    "# integers()\n",
    "ale6 = gnr.integers(10, size=(3, 4))\n",
    "print(ale6)"
   ]
  },
  {
   "cell_type": "code",
   "execution_count": 17,
   "id": "3e4ff10f-687e-434b-848b-f4dc98059c7a",
   "metadata": {
    "tags": []
   },
   "outputs": [
    {
     "name": "stdout",
     "output_type": "stream",
     "text": [
      "[11 12 13 14 15 16 17 18 19 20]\n"
     ]
    }
   ],
   "source": [
    "# unique() - Remover repetições\n",
    "j = np.array([11, 12, 13, 14, 15, 16, 17, 12, 13, 11, 18, 19, 20])\n",
    "j = np.unique(j)\n",
    "print(j)"
   ]
  },
  {
   "cell_type": "code",
   "execution_count": 18,
   "id": "957f14d7-1140-4956-8809-f45e78c60b5a",
   "metadata": {
    "tags": []
   },
   "outputs": [
    {
     "name": "stdout",
     "output_type": "stream",
     "text": [
      "[[17 22 43]\n",
      " [27 25 14]\n",
      " [15 24 32]]\n",
      "22\n",
      "(3, 3)\n"
     ]
    }
   ],
   "source": [
    "# Funções específicas\n",
    "k = np.array([[17, 22, 43], [27, 25, 14], [15, 24, 32]])\n",
    "# Mostrar a matriz k\n",
    "print(k)\n",
    "\n",
    "# Mostrar um elemento específico da matriz k (linha, coluna)\n",
    "print(k[0][1])\n",
    "\n",
    "# Mostrar o tamanho das dimensões da matriz k\n",
    "print(k.shape)"
   ]
  },
  {
   "cell_type": "code",
   "execution_count": 19,
   "id": "bb13a014-5f46-457a-9db8-298ac43815c2",
   "metadata": {
    "tags": []
   },
   "outputs": [
    {
     "name": "stdout",
     "output_type": "stream",
     "text": [
      "43\n",
      "14\n",
      "219\n",
      "24.333333333333332\n",
      "8.615231988880057\n"
     ]
    }
   ],
   "source": [
    "# Funções matemáticas\n",
    "# Retonar o maior valor da matriz k\n",
    "print(k.max())\n",
    "\n",
    "# Retornar o menor valor da matriz k\n",
    "print(k.min())\n",
    "\n",
    "# Retornar a soma dos valores da matriz k\n",
    "print((k.sum()))\n",
    "\n",
    "# Retornar o valor da média dos valores da matriz k\n",
    "print(k.mean())\n",
    "\n",
    "# Retornar o valor do desvio padrão (standard deviation) dos valores da matiz k\n",
    "print(k.std())"
   ]
  },
  {
   "cell_type": "code",
   "execution_count": 20,
   "id": "ca9f50e6-2ca2-4576-b7ff-b4e7aceb8ffd",
   "metadata": {
    "tags": []
   },
   "outputs": [
    {
     "name": "stdout",
     "output_type": "stream",
     "text": [
      "[1. 2. 3. 4. 5. 6.]\n",
      "[2.71828183e+00 5.45981500e+01 8.10308393e+03 8.88611052e+06\n",
      " 7.20048993e+10 4.31123155e+15]\n"
     ]
    }
   ],
   "source": [
    "# Funções universais (aplicadas a cada um dos elementos)\n",
    "k1 = np.array([1, 4, 9, 16, 25, 36])\n",
    "# Mostrar o valor da raiz quadrada de todos elementos\n",
    "print(np.sqrt(k1))\n",
    "\n",
    "# Mostrar o valor do exponencial de todos elementos\n",
    "print(np.exp(k1))"
   ]
  },
  {
   "cell_type": "code",
   "execution_count": 21,
   "id": "dc66db2d-183d-40f0-9cf8-76f95b3b5785",
   "metadata": {
    "tags": []
   },
   "outputs": [
    {
     "name": "stdout",
     "output_type": "stream",
     "text": [
      "2\n",
      "[1 2]\n",
      "[2 3 4 5 6]\n",
      "[5 6]\n",
      "[1 2 3 4]\n"
     ]
    }
   ],
   "source": [
    "# Extração de elementos (fatiamento e slicing)\n",
    "m = np.array([1, 2, 3, 4, 5, 6])\n",
    "# Mostrar o elemento da posição 2\n",
    "print(m[1])\n",
    "\n",
    "# Mostrar o array criado a partir do índice 0, dois elementos\n",
    "print(m[0:2])\n",
    "\n",
    "# Mostrar o array criado a partir do índice 1 até todo o restante do array\n",
    "print(m[1:])\n",
    "\n",
    "# Mostrar o array criado a partir da penúltima posição até o final\n",
    "print(m[-2:])\n",
    "\n",
    "# Mostrar o array criado a partir do índice 0 até a penúltima posição\n",
    "print(m[:-2])"
   ]
  },
  {
   "cell_type": "code",
   "execution_count": 22,
   "id": "328e3d97-d226-462f-917c-3c5012e6e64f",
   "metadata": {
    "tags": []
   },
   "outputs": [
    {
     "name": "stdout",
     "output_type": "stream",
     "text": [
      "[[4 5]\n",
      " [6 1]\n",
      " [7 4]]\n",
      "[4 5]\n",
      "[6 1]\n",
      "[7 4]\n",
      "[4 6 7]\n",
      "[5 1 4]\n"
     ]
    }
   ],
   "source": [
    "# Extração de linhas e colunas\n",
    "l = np.array([[4, 5], [6, 1], [7, 4]])\n",
    "print(l)\n",
    "\n",
    "# Primeira linha, todas as colunas\n",
    "l_linha_1 = l[0, :]\n",
    "print(l_linha_1)\n",
    "\n",
    "# Segunda linha, todas as colunas\n",
    "l_linha_2 = l[1, :]\n",
    "print(l_linha_2)\n",
    "\n",
    "# Terceira linha, todas as colunas\n",
    "l_linha_3 = l[2, :]\n",
    "print(l_linha_3)\n",
    "\n",
    "# Todas as linhas, primeira coluna\n",
    "l_coluna_1 = l[:, 0]\n",
    "print(l_coluna_1)\n",
    "\n",
    "# Todas as linhas, segunda coluna\n",
    "l_coluna_2 = l[:, 1]\n",
    "print(l_coluna_2)"
   ]
  },
  {
   "cell_type": "code",
   "execution_count": 23,
   "id": "a62eceee-f804-40fe-9ea5-c10ef2f4cf23",
   "metadata": {
    "tags": []
   },
   "outputs": [
    {
     "name": "stdout",
     "output_type": "stream",
     "text": [
      "[[1 2]\n",
      " [3 4]]\n",
      "[[1 1]\n",
      " [1 1]]\n",
      "[[2 3]\n",
      " [4 5]]\n",
      "[[1 2]\n",
      " [3 4]]\n"
     ]
    }
   ],
   "source": [
    "# Adição e multiplicação de matrizes\n",
    "n = np.array([[1, 2], [3, 4]])\n",
    "o = np.array([[1, 1], [1, 1]])\n",
    "print(n)\n",
    "print(o)\n",
    "# Adição das matrizes\n",
    "soma_matriz = n + o\n",
    "print(soma_matriz)\n",
    "\n",
    "# Multiplicação das matrizes\n",
    "mult_matriz = n * o\n",
    "print(mult_matriz)"
   ]
  },
  {
   "cell_type": "code",
   "execution_count": 24,
   "id": "f4972140-5060-4805-93e6-ec86e97e2931",
   "metadata": {
    "tags": []
   },
   "outputs": [
    {
     "name": "stdout",
     "output_type": "stream",
     "text": [
      "[[1 2]\n",
      " [3 4]\n",
      " [5 6]]\n",
      "[[2 1]]\n",
      "[[3 3]\n",
      " [5 5]\n",
      " [7 7]]\n"
     ]
    }
   ],
   "source": [
    "p = np.array([[1, 2], [3, 4], [5, 6]])\n",
    "q = np.array([[2, 1]])\n",
    "print(p)\n",
    "print(q)\n",
    "print(p+q)"
   ]
  },
  {
   "cell_type": "code",
   "execution_count": 25,
   "id": "e6a20e01-3480-496c-9e1a-fbd4555711ac",
   "metadata": {
    "tags": []
   },
   "outputs": [
    {
     "name": "stdout",
     "output_type": "stream",
     "text": [
      "[[ 0  1  2  3  4]\n",
      " [ 5  6  7  8  9]\n",
      " [10 11 12 13 14]]\n",
      "[[ 0  5 10]\n",
      " [ 1  6 11]\n",
      " [ 2  7 12]\n",
      " [ 3  8 13]\n",
      " [ 4  9 14]]\n",
      "[[ 0  5 10]\n",
      " [ 1  6 11]\n",
      " [ 2  7 12]\n",
      " [ 3  8 13]\n",
      " [ 4  9 14]]\n"
     ]
    }
   ],
   "source": [
    "# Transposição\n",
    "# Rearranja um conjunto de 15 elementos de 0 a 14 em 3 linhas e 5 colunas)\n",
    "f = np.arange(15).reshape((3, 5))\n",
    "print(f)\n",
    "\n",
    "# Mostrar a matriz transposta entre linha e coluna (usando .T)\n",
    "s = f.T\n",
    "print(s)\n",
    "\n",
    "# Mostrar a matriz transposta entre linha e coluna (usando .transpose())\n",
    "t = f.transpose((1,0))\n",
    "print(t)"
   ]
  },
  {
   "cell_type": "code",
   "execution_count": 26,
   "id": "c6a1722a-4565-4237-82d6-719dbd29b1d7",
   "metadata": {
    "tags": []
   },
   "outputs": [
    {
     "name": "stdout",
     "output_type": "stream",
     "text": [
      "[[ 0.95391462  0.43911697 -0.52333122  1.1451992 ]\n",
      " [-0.76018943  1.0418806   0.58402028 -0.24066954]\n",
      " [ 1.94613459 -1.13770776 -1.25172074  0.43294964]\n",
      " [ 0.47027159  0.88076443 -0.84920222  0.60788869]]\n",
      "[[ 1  1 -1  1]\n",
      " [-1  1  1 -1]\n",
      " [ 1 -1 -1  1]\n",
      " [ 1  1 -1  1]]\n",
      "[[ True  True False  True]\n",
      " [False  True  True False]\n",
      " [ True False False  True]\n",
      " [ True  True False  True]]\n",
      "[[ 1  1 -1  1]\n",
      " [-1  1  1 -1]\n",
      " [ 1 -1 -1  1]\n",
      " [ 1  1 -1  1]]\n"
     ]
    }
   ],
   "source": [
    "# Expressões lógicas\n",
    "# Criar matriz 4x4 com valores aleatórios positivos e negativos\n",
    "v = np.random.randn(4, 4)\n",
    "print(v)\n",
    "\n",
    "# Criar matriz com valores -1 e 1 baseado nos valores do array v\n",
    "y = np.where(v > 0, 1, -1)\n",
    "print(y)\n",
    "\n",
    "# Criar matriz com valores booleanos baseado no array v (False=Negativo , True=Positivo)\n",
    "x = (v > 0)\n",
    "print(x)\n",
    "\n",
    "# Criar matriz com valores -1 e 1 baseado nos valores do array x\n",
    "z = np.where(x > 0, 1, -1)\n",
    "print(z)"
   ]
  }
 ],
 "metadata": {
  "kernelspec": {
   "display_name": "Python 3 (ipykernel)",
   "language": "python",
   "name": "python3"
  },
  "language_info": {
   "codemirror_mode": {
    "name": "ipython",
    "version": 3
   },
   "file_extension": ".py",
   "mimetype": "text/x-python",
   "name": "python",
   "nbconvert_exporter": "python",
   "pygments_lexer": "ipython3",
   "version": "3.11.5"
  }
 },
 "nbformat": 4,
 "nbformat_minor": 5
}
