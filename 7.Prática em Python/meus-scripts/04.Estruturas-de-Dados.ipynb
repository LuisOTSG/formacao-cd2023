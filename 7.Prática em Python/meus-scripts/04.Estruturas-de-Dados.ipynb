{
 "cells": [
  {
   "cell_type": "markdown",
   "id": "85fd3cac-0aa8-4c7a-a008-1b2df813aa07",
   "metadata": {},
   "source": [
    "## Estrutura de Dados"
   ]
  },
  {
   "cell_type": "markdown",
   "id": "b25d51df-a4e2-4755-8b2f-7d8ff7182729",
   "metadata": {},
   "source": [
    "### Listas"
   ]
  },
  {
   "cell_type": "code",
   "execution_count": 1,
   "id": "01574590-2100-467b-8aed-072fd12d400d",
   "metadata": {
    "tags": []
   },
   "outputs": [
    {
     "name": "stdout",
     "output_type": "stream",
     "text": [
      "[1, 2, 3, 4, 5]\n",
      "<class 'list'>\n"
     ]
    }
   ],
   "source": [
    "# Criar listas\n",
    "lst = [1,2,3,4,5]\n",
    "print(lst)\n",
    "print(type(lst))"
   ]
  },
  {
   "cell_type": "code",
   "execution_count": 2,
   "id": "b359af96-1106-40e8-a459-b6a75dec7b9d",
   "metadata": {
    "tags": []
   },
   "outputs": [
    {
     "name": "stdout",
     "output_type": "stream",
     "text": [
      "[1, 2, 3, '4', True]\n"
     ]
    }
   ],
   "source": [
    "# Criar listas com vários tipos de dados\n",
    "lst2 = [1,2,3,\"4\",True]\n",
    "print(lst2)"
   ]
  },
  {
   "cell_type": "code",
   "execution_count": 3,
   "id": "41092ef9-bb97-43c4-9e00-2bad25cc79ec",
   "metadata": {
    "tags": []
   },
   "outputs": [
    {
     "name": "stdout",
     "output_type": "stream",
     "text": [
      "[12, [1, 2, 3, 4, 5], 'a']\n"
     ]
    }
   ],
   "source": [
    "# Criar lista com listas\n",
    "lst3 = [12,[1,2,3,4,5],\"a\"]\n",
    "print(lst3)"
   ]
  },
  {
   "cell_type": "code",
   "execution_count": 4,
   "id": "6df2fe41-a583-4d55-a863-78f1ea4c80b6",
   "metadata": {
    "tags": []
   },
   "outputs": [
    {
     "name": "stdout",
     "output_type": "stream",
     "text": [
      "[0, 1, 2, 3, 4]\n"
     ]
    }
   ],
   "source": [
    "# Criar lista com range\n",
    "lst4 = list(range(0,5))\n",
    "print(lst4)"
   ]
  },
  {
   "cell_type": "code",
   "execution_count": 5,
   "id": "eff94572-f9ff-44c2-8378-d2549ac86b98",
   "metadata": {
    "tags": []
   },
   "outputs": [
    {
     "name": "stdout",
     "output_type": "stream",
     "text": [
      "5\n"
     ]
    }
   ],
   "source": [
    "# len() - Comprimento da lista (quantidade de elementos)\n",
    "print(len(lst))"
   ]
  },
  {
   "cell_type": "code",
   "execution_count": 6,
   "id": "73e90d66-8dc3-4be5-82e9-29fade7aecd3",
   "metadata": {
    "tags": []
   },
   "outputs": [
    {
     "name": "stdout",
     "output_type": "stream",
     "text": [
      "1\n",
      "[1, 2, 3, 4, 5]\n",
      "[4, 2, 3, 4, 5]\n"
     ]
    }
   ],
   "source": [
    "# Acessar elemento (índice se inicia em 0)\n",
    "print(lst[0])\n",
    "# Elemento 1 da lst3 é uma lista\n",
    "print(lst3[1])\n",
    "# Alterar o elemento\n",
    "lst[0] = 4\n",
    "print(lst)"
   ]
  },
  {
   "cell_type": "code",
   "execution_count": 7,
   "id": "8c64fb80-71dd-4d3c-81b6-5554610d08be",
   "metadata": {
    "tags": []
   },
   "outputs": [
    {
     "name": "stdout",
     "output_type": "stream",
     "text": [
      "1\n",
      "2\n",
      "3\n",
      "4\n",
      "5\n"
     ]
    }
   ],
   "source": [
    "# Percorrer uma lista usando o For\n",
    "for i in range(0, len(lst4)):\n",
    "    print(lst4[i] + 1)"
   ]
  },
  {
   "cell_type": "markdown",
   "id": "dcd626d1-2a18-423b-a84f-0fcf5a637e46",
   "metadata": {},
   "source": [
    "### Dicionários"
   ]
  },
  {
   "cell_type": "code",
   "execution_count": 8,
   "id": "d2f5cfa8-5932-4d7f-a24d-b4f1a8d52a2e",
   "metadata": {
    "tags": []
   },
   "outputs": [
    {
     "name": "stdout",
     "output_type": "stream",
     "text": [
      "{'João': 6.0, 'Maria': 8.0, 'José': 7.5}\n",
      "<class 'dict'>\n"
     ]
    }
   ],
   "source": [
    "# Criar dicionários usando chave e valor\n",
    "notas = {'João': 6.0, 'Maria': 8.0, 'José': 7.5}\n",
    "print(notas)\n",
    "print(type(notas))"
   ]
  },
  {
   "cell_type": "code",
   "execution_count": 9,
   "id": "67518c85-e943-49ec-bedf-4609227b4771",
   "metadata": {
    "tags": []
   },
   "outputs": [
    {
     "name": "stdout",
     "output_type": "stream",
     "text": [
      "6.0\n"
     ]
    }
   ],
   "source": [
    "# Imprimir o valor de uma chave\n",
    "print(notas['João'])"
   ]
  },
  {
   "cell_type": "code",
   "execution_count": 10,
   "id": "a04c9fe9-4643-48a5-9b55-a90fbccdf697",
   "metadata": {
    "tags": []
   },
   "outputs": [
    {
     "data": {
      "text/plain": [
       "dict_keys(['João', 'Maria', 'José'])"
      ]
     },
     "execution_count": 10,
     "metadata": {},
     "output_type": "execute_result"
    }
   ],
   "source": [
    "# Retornar todas as chaves\n",
    "notas.keys()"
   ]
  },
  {
   "cell_type": "code",
   "execution_count": 11,
   "id": "aac8a80f-9aff-4bbe-b6fb-167232920bb1",
   "metadata": {
    "tags": []
   },
   "outputs": [
    {
     "data": {
      "text/plain": [
       "dict_values([6.0, 8.0, 7.5])"
      ]
     },
     "execution_count": 11,
     "metadata": {},
     "output_type": "execute_result"
    }
   ],
   "source": [
    "# Retornar todos os valores\n",
    "notas.values()"
   ]
  },
  {
   "cell_type": "code",
   "execution_count": 12,
   "id": "c649dbfa-b2ec-4b3f-9c26-18de22378745",
   "metadata": {
    "tags": []
   },
   "outputs": [
    {
     "name": "stdout",
     "output_type": "stream",
     "text": [
      "True\n",
      "False\n"
     ]
    }
   ],
   "source": [
    "# Testar logicamente a existência de um elemento no dicionário\n",
    "print('João' in notas)\n",
    "print('Pedro' in notas)"
   ]
  },
  {
   "cell_type": "code",
   "execution_count": 13,
   "id": "287b746b-22c0-4c13-ac36-92b8ce604a0c",
   "metadata": {
    "tags": []
   },
   "outputs": [
    {
     "name": "stdout",
     "output_type": "stream",
     "text": [
      "{'Maria': 8.0, 'José': 7.5}\n"
     ]
    }
   ],
   "source": [
    "# Excluir um elemento (exclui a chave e o valor)\n",
    "del notas['João']\n",
    "print(notas)"
   ]
  },
  {
   "cell_type": "code",
   "execution_count": 14,
   "id": "38cdf915-1b05-4d61-acf4-b6a669c17830",
   "metadata": {
    "tags": []
   },
   "outputs": [
    {
     "name": "stdout",
     "output_type": "stream",
     "text": [
      "{'Maria': 8.0, 'José': 7.5, 'Ana': 9}\n"
     ]
    }
   ],
   "source": [
    "# Adicionar um elemento (chave e valor) ao dicionário\n",
    "notas['Ana'] = 9\n",
    "print(notas)"
   ]
  },
  {
   "cell_type": "code",
   "execution_count": 15,
   "id": "b85ce56e-710d-4944-b8cc-f1da5faf1491",
   "metadata": {
    "tags": []
   },
   "outputs": [
    {
     "data": {
      "text/plain": [
       "'Não encontrado!'"
      ]
     },
     "execution_count": 15,
     "metadata": {},
     "output_type": "execute_result"
    }
   ],
   "source": [
    "# Buscar uma chave, se não encontrar mostra segundo parâmetro\n",
    "notas.get('Geraldo',\"Não encontrado!\")"
   ]
  },
  {
   "cell_type": "markdown",
   "id": "237479d1-44ee-4e5e-be06-a58f9f795c3c",
   "metadata": {},
   "source": [
    "### Sets"
   ]
  },
  {
   "cell_type": "code",
   "execution_count": 16,
   "id": "7db1f9c7-41ce-4ee2-b9a0-ab5fbe16b4f5",
   "metadata": {
    "tags": []
   },
   "outputs": [
    {
     "name": "stdout",
     "output_type": "stream",
     "text": [
      "{'Sqoop', 'Hive', 'Spark'}\n",
      "<class 'set'>\n"
     ]
    }
   ],
   "source": [
    "# Sets são conjuntos não ordenados de elementos não repetidos\n",
    "bigdata = {'Spark', 'Hive', \"Sqoop\"}\n",
    "print(bigdata)\n",
    "print(type(bigdata))"
   ]
  },
  {
   "cell_type": "code",
   "execution_count": 17,
   "id": "07f09bec-a3e7-455f-a2e1-c5c8dee324cb",
   "metadata": {
    "tags": []
   },
   "outputs": [
    {
     "name": "stdout",
     "output_type": "stream",
     "text": [
      "True\n"
     ]
    }
   ],
   "source": [
    "# Testar logicamente a existência de um elemento no dicionário\n",
    "print('Spark' in bigdata)"
   ]
  },
  {
   "cell_type": "code",
   "execution_count": 18,
   "id": "f309c9ca-2f61-4d3b-b1f6-4b2efdf64679",
   "metadata": {
    "tags": []
   },
   "outputs": [
    {
     "data": {
      "text/plain": [
       "{'Hadoop', 'Hive', 'Spark', 'Sqoop'}"
      ]
     },
     "execution_count": 18,
     "metadata": {},
     "output_type": "execute_result"
    }
   ],
   "source": [
    "# Adicionar um elemento ao set\n",
    "bigdata.add('Hadoop')\n",
    "bigdata"
   ]
  },
  {
   "cell_type": "code",
   "execution_count": 19,
   "id": "697492db-908d-468b-9aa8-982029b8e808",
   "metadata": {
    "tags": []
   },
   "outputs": [
    {
     "name": "stdout",
     "output_type": "stream",
     "text": [
      "4\n"
     ]
    }
   ],
   "source": [
    "# len() - Comprimento do set (quantidade de elementos)\n",
    "print(len(bigdata))"
   ]
  },
  {
   "cell_type": "code",
   "execution_count": 20,
   "id": "05ab6e81-82e0-4cda-9c83-87343339e46c",
   "metadata": {
    "tags": []
   },
   "outputs": [
    {
     "data": {
      "text/plain": [
       "{'Hadoop', 'Hive', 'Spark', 'Sqoop'}"
      ]
     },
     "execution_count": 20,
     "metadata": {},
     "output_type": "execute_result"
    }
   ],
   "source": [
    "# Adiciona elementos apenas se ainda não existe na lista, se existir não adiciona\n",
    "bigdata.add(\"Spark\")\n",
    "bigdata"
   ]
  },
  {
   "cell_type": "markdown",
   "id": "72b7615a-18ff-49ba-a77f-1a344f1deb88",
   "metadata": {},
   "source": [
    "### Tupla"
   ]
  },
  {
   "cell_type": "code",
   "execution_count": 21,
   "id": "1b7ae7ad-ae32-4986-ac59-217c62a0bb3c",
   "metadata": {
    "tags": []
   },
   "outputs": [
    {
     "name": "stdout",
     "output_type": "stream",
     "text": [
      "(1, 2, 3, 4, 5, 6, 7)\n",
      "<class 'tuple'>\n"
     ]
    }
   ],
   "source": [
    "# Tuplas são listas que não podem ser alteradas\n",
    "tp = (1, 2, 3, 4, 5, 6, 7)\n",
    "print(tp)\n",
    "print(type(tp))"
   ]
  },
  {
   "cell_type": "code",
   "execution_count": 22,
   "id": "c0fb399d-6aac-4e8a-83c6-8f23a67e13df",
   "metadata": {
    "tags": []
   },
   "outputs": [
    {
     "data": {
      "text/plain": [
       "5"
      ]
     },
     "execution_count": 22,
     "metadata": {},
     "output_type": "execute_result"
    }
   ],
   "source": [
    "# Acessar elemento da tupla\n",
    "tp[4]"
   ]
  },
  {
   "cell_type": "code",
   "execution_count": 23,
   "id": "d69a9ea6-edae-4141-878e-d31fec4fcb46",
   "metadata": {
    "tags": []
   },
   "outputs": [
    {
     "data": {
      "text/plain": [
       "{(0, 1): 0,\n",
       " (1, 2): 1,\n",
       " (2, 3): 2,\n",
       " (3, 4): 3,\n",
       " (4, 5): 4,\n",
       " (5, 6): 5,\n",
       " (6, 7): 6,\n",
       " (7, 8): 7,\n",
       " (8, 9): 8,\n",
       " (9, 10): 9}"
      ]
     },
     "execution_count": 23,
     "metadata": {},
     "output_type": "execute_result"
    }
   ],
   "source": [
    "# Dicionários em que cada posição recebe uma tupla\n",
    "dict2 = {(0, 1): 0, (1, 2): 1, (2, 3): 2, (3, 4): 3, (4, 5): 4,(5, 6): 5, (6, 7): 6, (7, 8): 7, (8, 9): 8, (9, 10): 9}\n",
    "dict2"
   ]
  }
 ],
 "metadata": {
  "kernelspec": {
   "display_name": "Python 3 (ipykernel)",
   "language": "python",
   "name": "python3"
  },
  "language_info": {
   "codemirror_mode": {
    "name": "ipython",
    "version": 3
   },
   "file_extension": ".py",
   "mimetype": "text/x-python",
   "name": "python",
   "nbconvert_exporter": "python",
   "pygments_lexer": "ipython3",
   "version": "3.11.5"
  }
 },
 "nbformat": 4,
 "nbformat_minor": 5
}
