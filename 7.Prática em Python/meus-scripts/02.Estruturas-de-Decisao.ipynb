{
 "cells": [
  {
   "cell_type": "markdown",
   "id": "a0df5fd8-383b-4063-bc01-4da19cb2e8eb",
   "metadata": {},
   "source": [
    "## Estruturas de Decisão"
   ]
  },
  {
   "cell_type": "code",
   "execution_count": 1,
   "id": "16f78d3d-f481-437c-b31f-54b15d736c5e",
   "metadata": {
    "tags": []
   },
   "outputs": [
    {
     "name": "stdout",
     "output_type": "stream",
     "text": [
      "Reprovado\n",
      "Mais sorte da próxima!\n"
     ]
    }
   ],
   "source": [
    "# If ... else\n",
    "nota = 5\n",
    "if nota >= 7:\n",
    "\tprint(\"Aprovado\")\n",
    "\tprint(\"Parabéns!\")\n",
    "else:\n",
    "\tprint(\"Reprovado\")\n",
    "\tprint(\"Mais sorte da próxima!\")"
   ]
  },
  {
   "cell_type": "code",
   "execution_count": 2,
   "id": "f9d0079d-2623-4db2-815f-7583c017add9",
   "metadata": {
    "tags": []
   },
   "outputs": [
    {
     "name": "stdout",
     "output_type": "stream",
     "text": [
      "Recuperação\n"
     ]
    }
   ],
   "source": [
    "# If ... elif ... else\n",
    "nota = 6\n",
    "if nota <= 4:\n",
    "\tprint(\"Reprovado\")\n",
    "elif nota > 4 and nota <=6:\n",
    "\tprint(\"Recuperação\")\n",
    "else:\n",
    "\tprint(\"Aprovado\")"
   ]
  }
 ],
 "metadata": {
  "kernelspec": {
   "display_name": "Python 3 (ipykernel)",
   "language": "python",
   "name": "python3"
  },
  "language_info": {
   "codemirror_mode": {
    "name": "ipython",
    "version": 3
   },
   "file_extension": ".py",
   "mimetype": "text/x-python",
   "name": "python",
   "nbconvert_exporter": "python",
   "pygments_lexer": "ipython3",
   "version": "3.11.5"
  }
 },
 "nbformat": 4,
 "nbformat_minor": 5
}
