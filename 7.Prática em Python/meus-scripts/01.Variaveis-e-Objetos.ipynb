{
 "cells": [
  {
   "cell_type": "markdown",
   "id": "c0be9e6d-417b-4bf6-8d82-2e2a2c030c2e",
   "metadata": {
    "tags": []
   },
   "source": [
    "## Variáveis e Objetos"
   ]
  },
  {
   "cell_type": "code",
   "execution_count": 1,
   "id": "5fe71816-807d-4d0f-99fb-985e90ae5c56",
   "metadata": {
    "tags": []
   },
   "outputs": [
    {
     "name": "stdout",
     "output_type": "stream",
     "text": [
      "1\n",
      "3.14\n",
      "Python\n",
      "False\n"
     ]
    }
   ],
   "source": [
    "# Criar variável do tipo inteiro (int)\n",
    "x = 1\n",
    "print(x)\n",
    "# Criar variável do tipo float\n",
    "y = 3.14\n",
    "print(y)\n",
    "# Criar variável do tipo texto (string)\n",
    "m = \"Python\"\n",
    "m = 'Python'\n",
    "print(m)\n",
    "# Criar variável do tipo lógica (bool)\n",
    "w = True  \n",
    "y = False\n",
    "print(y)"
   ]
  },
  {
   "cell_type": "code",
   "execution_count": 2,
   "id": "f5a3a5a4-89b2-4020-8a87-105ddfd301fb",
   "metadata": {
    "tags": []
   },
   "outputs": [
    {
     "name": "stdout",
     "output_type": "stream",
     "text": [
      "45.0\n"
     ]
    }
   ],
   "source": [
    "# Calculadora simples\n",
    "x = 15\n",
    "y = 30\n",
    "z = 100\n",
    "w = (x + y) * z / 100\n",
    "print(w)"
   ]
  },
  {
   "cell_type": "code",
   "execution_count": 3,
   "id": "72ae21a3-2cf0-4487-9ce7-ffe41ee49e7e",
   "metadata": {
    "tags": []
   },
   "outputs": [
    {
     "name": "stdout",
     "output_type": "stream",
     "text": [
      "Este texto será impresso no console.\n",
      "15\n",
      "Texto e duas variáveis:  15 ,  100\n"
     ]
    }
   ],
   "source": [
    "# Exibir texto no console\n",
    "print(\"Este texto será impresso no console.\")\n",
    "print(x)\n",
    "print(\"Texto e duas variáveis: \", x ,\", \", z)"
   ]
  },
  {
   "cell_type": "code",
   "execution_count": 4,
   "id": "7b55b953-61b7-485a-8ef1-73c25a58baa4",
   "metadata": {
    "tags": []
   },
   "outputs": [
    {
     "name": "stdout",
     "output_type": "stream",
     "text": [
      "<class 'int'>\n",
      "<class 'str'>\n"
     ]
    }
   ],
   "source": [
    "# Verificar tipo das variáveis\n",
    "print(type(x))\n",
    "print(type(m))"
   ]
  },
  {
   "cell_type": "code",
   "execution_count": 5,
   "id": "51c8c5a3-ba5f-4ab2-a513-657a543e296f",
   "metadata": {
    "tags": []
   },
   "outputs": [
    {
     "name": "stdin",
     "output_type": "stream",
     "text": [
      "Informe um valor:  45\n"
     ]
    },
    {
     "name": "stdout",
     "output_type": "stream",
     "text": [
      "<class 'str'>\n"
     ]
    }
   ],
   "source": [
    "# Entrada de dados pelo usuário\n",
    "i = input(\"Informe um valor: \")\n",
    "# Mostra tipo da entrada do usuário\n",
    "print(type(i))"
   ]
  },
  {
   "cell_type": "code",
   "execution_count": 6,
   "id": "bea7826a-0ff7-4f31-a2f9-3e1d4fc5ae1c",
   "metadata": {
    "tags": []
   },
   "outputs": [
    {
     "name": "stdout",
     "output_type": "stream",
     "text": [
      "Informe um valor: \n"
     ]
    },
    {
     "name": "stdin",
     "output_type": "stream",
     "text": [
      " 10\n",
      "Informe um valor:  10\n"
     ]
    }
   ],
   "source": [
    "# Entrada de valor com mensagem separada\n",
    "print(\"Informe um valor: \")\n",
    "i = input()\n",
    "# Entrada de valor com mensagem junto\n",
    "i = input(\"Informe um valor: \")"
   ]
  },
  {
   "cell_type": "code",
   "execution_count": 7,
   "id": "83534e4c-b2b7-4c4b-b27e-7af686be6d15",
   "metadata": {
    "tags": []
   },
   "outputs": [
    {
     "name": "stdin",
     "output_type": "stream",
     "text": [
      "Informe um valor:  45\n"
     ]
    },
    {
     "name": "stdout",
     "output_type": "stream",
     "text": [
      "<class 'str'>\n",
      "<class 'int'>\n"
     ]
    }
   ],
   "source": [
    "# Conversão de valores\n",
    "# Para inteiro (int)\n",
    "var = input(\"Informe um valor: \")\n",
    "print(type(var))\n",
    "var = int(var)\n",
    "print(type(var))"
   ]
  },
  {
   "cell_type": "code",
   "execution_count": 8,
   "id": "a24886b6-f415-4115-a071-26152fa26c84",
   "metadata": {
    "tags": []
   },
   "outputs": [
    {
     "name": "stdin",
     "output_type": "stream",
     "text": [
      "Informe um valor:  45\n"
     ]
    },
    {
     "name": "stdout",
     "output_type": "stream",
     "text": [
      "<class 'str'>\n",
      "<class 'float'>\n"
     ]
    }
   ],
   "source": [
    "# Conversão de valores\n",
    "# Para float\n",
    "var = input(\"Informe um valor: \")\n",
    "print(type(var))\n",
    "var = float(var)\n",
    "print(type(var))"
   ]
  },
  {
   "cell_type": "code",
   "execution_count": 9,
   "id": "115e0097-8921-46d3-8344-cd3c60a41463",
   "metadata": {
    "tags": []
   },
   "outputs": [
    {
     "name": "stdout",
     "output_type": "stream",
     "text": [
      "10\n"
     ]
    }
   ],
   "source": [
    "# Esta parte do código é um comentário\n",
    "'''\n",
    "Esta é uma linha de comentário\n",
    "Esta é outra linha de comentário\n",
    "'''\n",
    "x = 10  # a partir daqui é um comentário\n",
    "print(x)"
   ]
  }
 ],
 "metadata": {
  "kernelspec": {
   "display_name": "Python 3 (ipykernel)",
   "language": "python",
   "name": "python3"
  },
  "language_info": {
   "codemirror_mode": {
    "name": "ipython",
    "version": 3
   },
   "file_extension": ".py",
   "mimetype": "text/x-python",
   "name": "python",
   "nbconvert_exporter": "python",
   "pygments_lexer": "ipython3",
   "version": "3.11.5"
  }
 },
 "nbformat": 4,
 "nbformat_minor": 5
}
